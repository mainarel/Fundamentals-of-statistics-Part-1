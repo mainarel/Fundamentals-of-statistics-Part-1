{
 "cells": [
  {
   "cell_type": "markdown",
   "metadata": {},
   "source": [
    "## 1.2 Генеральная совокупность и выборка"
   ]
  },
  {
   "cell_type": "markdown",
   "metadata": {},
   "source": [
    "***Генеральная совокупность*** - множество всех тех объектов, относительно которых мы бы хотели делать выводы, в рамках исследований некоторой проблемы.  \n",
    "\n",
    "***Репрезентативная выборка*** - выборка, отражающая модель генеральной совокуппности и отражающая ее свойства.\n",
    "\n",
    "**Способы формирования репрезентативной выборки:**\n",
    "1. *Простая случайная выборка* *(simple random sample)*\n",
    "2. *Стратифицированная выборка (stratified sample)* - перед извлечением элементов генеральной совокупности сначала она разбивается на несколько обособленных и различных по своей природе *страт* (групп).\n",
    "3. *Групповая выборка (claster sample)* - все кластеры похожи между собой. Выбор из нескольких кластеров элементов."
   ]
  },
  {
   "cell_type": "markdown",
   "metadata": {},
   "source": [
    "## 1.3 Типы переменных. Количественные и номинативные переменные"
   ]
  },
  {
   "cell_type": "markdown",
   "metadata": {},
   "source": [
    "**Типы переменных:**\n",
    "1. *Количественные*\n",
    " - непрерывные\n",
    " - дискретные\n",
    "\n",
    "2. *Качественные*\n",
    "- номинальные (категориальные)\n",
    "- ранговые"
   ]
  },
  {
   "cell_type": "markdown",
   "metadata": {},
   "source": [
    "## 1.4 Меры центральной тенденции"
   ]
  },
  {
   "cell_type": "markdown",
   "metadata": {},
   "source": [
    "***Распределение переменных*** описывает, как часто различные значения переменной встречаются в выборке. Это может быть исследовано для номинативных переменных (категорий) или количественных переменных (числовых значений).\n",
    "\n",
    "***Гистограмма частот*** - это график, который показывает распределение количественной переменной. Он позволяет визуализировать форму распределения и делать выводы о его свойствах, таких как симметрия, асимметрия и модальность (наличие пиков)"
   ]
  },
  {
   "cell_type": "code",
   "execution_count": 2,
   "metadata": {},
   "outputs": [],
   "source": [
    "import pandas as pd\n",
    "import seaborn as sns"
   ]
  },
  {
   "cell_type": "code",
   "execution_count": 3,
   "metadata": {},
   "outputs": [],
   "source": [
    "data = pd.read_csv(\"https://stepik.org/media/attachments/lesson/802033/students.csv\")"
   ]
  },
  {
   "cell_type": "code",
   "execution_count": 15,
   "metadata": {},
   "outputs": [
    {
     "name": "stderr",
     "output_type": "stream",
     "text": [
      "c:\\Users\\asus\\anaconda3\\Lib\\site-packages\\seaborn\\_oldcore.py:1119: FutureWarning: use_inf_as_na option is deprecated and will be removed in a future version. Convert inf values to NaN before operating instead.\n",
      "  with pd.option_context('mode.use_inf_as_na', True):\n"
     ]
    },
    {
     "data": {
      "text/plain": [
       "<Axes: xlabel='Age', ylabel='Count'>"
      ]
     },
     "execution_count": 15,
     "metadata": {},
     "output_type": "execute_result"
    },
    {
     "data": {
      "image/png": "[encoded data removed]",
      "text/plain": [
       "<Figure size 640x480 with 1 Axes>"
      ]
     },
     "metadata": {},
     "output_type": "display_data"
    }
   ],
   "source": [
    "sns.histplot(data=data, x=\"Age\") "
   ]
  },
  {
   "cell_type": "markdown",
   "metadata": {},
   "source": [
    "**Два ключевых типа описательной статистики:**\n",
    "1. ***Меры центральной тенденции***, которые отвечают на вопрос: “Какие в целом значения принимает наша переменная?”.\n",
    "\n",
    "- ***Мода*** *(mode)* - значение измеряемого признака. которое встречается максимально часто\n",
    "\n",
    "- ***Медиана*** *(median)* - значение признака, которое делит упорядоченное множество данных пополам. При четном количестве наблюдений вычисляется среднее двух серединных\n",
    "\n",
    "- ***Среднее значение*** *(mean, среднее арифметическое)* - сумма всех значений измеренного признака, деленная на количество измеренных значений"
   ]
  },
  {
   "cell_type": "code",
   "execution_count": 20,
   "metadata": {},
   "outputs": [
    {
     "name": "stdout",
     "output_type": "stream",
     "text": [
      "Мода:  0    19\n",
      "Name: Age, dtype: int64 \n",
      "\n",
      "Медиана:  20.0 \n",
      "\n",
      "Среднее:  20.688172043010752\n"
     ]
    }
   ],
   "source": [
    "print('Мода: ', data['Age'].mode(),'\\n')\n",
    "\n",
    "print('Медиана: ', data['Age'].median(),'\\n')\n",
    "\n",
    "print('Среднее: ', data['Age'].mean())"
   ]
  },
  {
   "cell_type": "markdown",
   "metadata": {},
   "source": [
    "**Свойства среднего:**\n",
    " - $\\ M_{x+c}  = M_x + c$ (если каждое значение увеличить на число, то среднее увеличится на это число)\n",
    " - $\\ M_{x*c}  = M_x * c$ (если каждое значение умножить на число, то среднее увеличится в это число раз)\n",
    " - $\\ \\sum (x_i - M_x) =0 $ (если для каждого значения рассчитать отклонение от среднего и сложить их, то сумма = 0)"
   ]
  },
  {
   "cell_type": "markdown",
   "metadata": {},
   "source": [
    "## 1.5 Меры изменчивости"
   ]
  },
  {
   "cell_type": "markdown",
   "metadata": {},
   "source": [
    "2. ***Меры изменчивости***, которые используются для описания вариативности или разброса значений переменной\n",
    "- ***Размах (Range)*** - разность максимального и минимального значений\n",
    "\n",
    "- ***Дисперсия (variance)*** - средний квадрат отклонений индивидуальных значений признака от их средней величины\n",
    "\n",
    "    $D = \\frac{\\sum (x_i - \\overline{x})}{n} $\n",
    "\n",
    "- ***Среднеквадратическое отклонение (sd)*** *(среднеквадратичное, стандартное)* - корень из дисперсии, отклонение в исходных единицах измерения"
   ]
  },
  {
   "cell_type": "code",
   "execution_count": 24,
   "metadata": {},
   "outputs": [
    {
     "name": "stdout",
     "output_type": "stream",
     "text": [
      "Размах:  38 \n",
      "\n",
      "Дисперсия:  12.03196745132227 \n",
      "\n",
      "Среднеквадратическое отклонение:  3.4687126504399686 \n",
      "\n"
     ]
    }
   ],
   "source": [
    "print(\"Размах: \", data[\"Age\"].max() - data[\"Age\"].min(), \"\\n\")\n",
    "\n",
    "print(\"Дисперсия: \", data[\"Age\"].var(), \"\\n\")\n",
    "\n",
    "print(\"Среднеквадратическое отклонение: \", data[\"Age\"].std(), \"\\n\")"
   ]
  },
  {
   "cell_type": "markdown",
   "metadata": {},
   "source": [
    "**Свойства дисперсии и стандартного отклонения:**\n",
    " - $\\ D_{x+c}  = D_x $\n",
    " - $\\ sd_{x+c} = sd_x  $  \n",
    "<br/> \n",
    " - $\\ D_{x*c}  = D_x * с^2 $\n",
    " - $\\ sd_{x*c} = sd_x *c $"
   ]
  },
  {
   "cell_type": "markdown",
   "metadata": {},
   "source": [
    "## 1.6 Квартили распределения и график box-plot"
   ]
  },
  {
   "cell_type": "markdown",
   "metadata": {},
   "source": [
    "***Квантили*** - это такие значения признака, которые делят упорядоченные данные на некоторое число равных частейю.\n",
    "\n",
    "***Квартили*** - это специфический тип квантилей, который разбивает данные на четыре равные части."
   ]
  },
  {
   "cell_type": "code",
   "execution_count": 34,
   "metadata": {},
   "outputs": [
    {
     "name": "stdout",
     "output_type": "stream",
     "text": [
      "25 перцентиль:  19.0\n",
      "50 перцентиль:  20.0\n",
      "75 перцентиль:  21.0\n"
     ]
    }
   ],
   "source": [
    "print(\"25 перцентиль: \", data[\"Age\"].quantile(0.25))\n",
    "print(\"50 перцентиль: \", data[\"Age\"].quantile(0.50))\n",
    "print(\"75 перцентиль: \", data[\"Age\"].quantile(0.75))"
   ]
  },
  {
   "cell_type": "markdown",
   "metadata": {},
   "source": [
    "***Box-plot*** *(Ящик с усами)*  \n",
    "Диаграмма показывает распределение значений в выборке и основные статистические показатели: медиану, верхний и нижний квартили, наблюдаемые минимумы и максимумы, а также выбросы."
   ]
  },
  {
   "cell_type": "code",
   "execution_count": 41,
   "metadata": {},
   "outputs": [
    {
     "data": {
      "text/plain": [
       "<Axes: >"
      ]
     },
     "execution_count": 41,
     "metadata": {},
     "output_type": "execute_result"
    },
    {
     "data": {
      "image/png": "[encoded data removed]",
      "text/plain": [
       "<Figure size 640x480 with 1 Axes>"
      ]
     },
     "metadata": {},
     "output_type": "display_data"
    }
   ],
   "source": [
    "sns.boxplot(data[\"Age\"], width=0.3)"
   ]
  },
  {
   "cell_type": "markdown",
   "metadata": {},
   "source": [
    "*Центральная линия* - медиана значений\n",
    "\n",
    "*Верхняя и нижняя границы ящика* - 1 и 3 квартили (Q1, Q3)\n",
    "\n",
    "$IQR (межквартильный  размах)  = Q3 - Q1$\n",
    "\n",
    "Концы \"усов\":\n",
    "- $ Q1 - IQR*1.5$\n",
    "- $ Q3+IQR*1.5 $\n",
    "\n",
    "Значения, превышающие данные границы - выносятся точками как выбросы"
   ]
  },
  {
   "cell_type": "markdown",
   "metadata": {},
   "source": [
    "## 1.7 Нормальное распределение"
   ]
  },
  {
   "attachments": {
    "image.png": {
     "image/png": "[encoded data removed]"
    }
   },
   "cell_type": "markdown",
   "metadata": {},
   "source": [
    "***Нормальное распределение:***\n",
    "- унимодально\n",
    "- симметрично\n",
    "- отклонения наблюдений от среднего подчиняются определенному вероятностному закону\n",
    "\n",
    "![image.png](attachment:image.png)"
   ]
  },
  {
   "cell_type": "markdown",
   "metadata": {},
   "source": [
    "***Стандартизация*** *(z-преобразование)* - преобразование полученных данных в стандартную Z-школу со средним $ M_z = 0 $ и $D_z  =1 $.\n",
    "\n",
    "$$ Z_i = \\frac{ x_i - \\overline{x}}{sd} $$\n",
    "\n",
    "- Для каждого наблюдения в выборке можно рассчитать соответствующее z значение\n",
    "\n",
    "- Если для некоторого наблюдения z значение равняется нулю, следовательно это наблюдение совпадает со средним значением по выборке"
   ]
  },
  {
   "cell_type": "code",
   "execution_count": 43,
   "metadata": {},
   "outputs": [],
   "source": [
    "from scipy.stats import zscore\n",
    "\n",
    "data[\"Age_z\"] = zscore(data[\"Age\"], ddof=1)"
   ]
  },
  {
   "cell_type": "code",
   "execution_count": 45,
   "metadata": {},
   "outputs": [],
   "source": [
    "data[\"Age_z\"] = (data[\"Age\"] - data[\"Age\"].mean()) / data[\"Age\"].std()"
   ]
  },
  {
   "cell_type": "code",
   "execution_count": 46,
   "metadata": {},
   "outputs": [
    {
     "name": "stdout",
     "output_type": "stream",
     "text": [
      "Среднее: 1.8802164126716361e-16\n",
      "Дисперсия: 1.0000000000000016\n"
     ]
    }
   ],
   "source": [
    "print(\"Среднее:\", data[\"Age_z\"].mean())\n",
    "print(\"Дисперсия:\", data[\"Age_z\"].var())"
   ]
  },
  {
   "cell_type": "markdown",
   "metadata": {},
   "source": [
    "Правило \"двух\" и \"трех\" сигм:\n",
    "\n",
    " - $ M_x \\pm  \\sigma \\approx 68 \\% $ наблюдений\n",
    " - $ M_x \\pm  2\\sigma \\approx 95\\% $ наблюдений\n",
    " - $ M_x \\pm  3\\sigma \\approx 100\\% $ наблюдений"
   ]
  },
  {
   "cell_type": "code",
   "execution_count": 52,
   "metadata": {},
   "outputs": [
    {
     "name": "stdout",
     "output_type": "stream",
     "text": [
      "Вероятность встретить значение, превосходящее z (в z-шкале), равно:\n",
      "0.21185539858339664\n"
     ]
    }
   ],
   "source": [
    "import scipy.stats as st\n",
    "\n",
    "point = 112\n",
    "m = 100\n",
    "sd = 15\n",
    "z = (point - m) / sd\n",
    "\n",
    "print(\"Вероятность встретить значение, превосходящее z (в z-шкале), равно:\")\n",
    "print(1 - st.norm.cdf(z))"
   ]
  },
  {
   "cell_type": "markdown",
   "metadata": {},
   "source": [
    "## 1.8 Центральная предельная теорема"
   ]
  },
  {
   "cell_type": "markdown",
   "metadata": {},
   "source": [
    "Сформируем на основе генеральной совокупности несколько выборок. Для каждой выборки совокупности найдем ее среднее значение и стандартное отклонение. Построим распределение выборочных средних значений. Среднее всех средних будет очень близко к среднему в генеральной совокупности\n",
    "\n",
    "Стандартное отклонение такого распределения - ***стандартная ошибка среднего*** и показывает, на сколько в среднем средние выборочные значения  отклоняются от среднего в генеральной совокупности.\n",
    "$$ se = \\frac{\\sigma}{\\sqrt{n}}  =(n>30) \\frac{sd_x}{\\sqrt{n}} $$"
   ]
  },
  {
   "cell_type": "markdown",
   "metadata": {},
   "source": [
    "***Центральная предельная теорема*** утверждает, что распределение выборочных средних приблизительно нормально, если размер выборки достаточно велик, даже если распределение генеральной совокупности не является нормальным "
   ]
  },
  {
   "cell_type": "code",
   "execution_count": 53,
   "metadata": {},
   "outputs": [
    {
     "data": {
      "text/plain": [
       "0.25433835151254663"
      ]
     },
     "execution_count": 53,
     "metadata": {},
     "output_type": "execute_result"
    }
   ],
   "source": [
    "data[\"Age\"].sem()"
   ]
  },
  {
   "cell_type": "code",
   "execution_count": 56,
   "metadata": {},
   "outputs": [
    {
     "data": {
      "text/plain": [
       "0.25433835151254663"
      ]
     },
     "execution_count": 56,
     "metadata": {},
     "output_type": "execute_result"
    }
   ],
   "source": [
    "data[\"Age\"].std() / (data[\"Age\"].count()) ** (1 / 2)"
   ]
  },
  {
   "cell_type": "markdown",
   "metadata": {},
   "source": [
    "## 1.9 Доверительные интервалы для среднего"
   ]
  },
  {
   "cell_type": "markdown",
   "metadata": {},
   "source": [
    "$$\\overline{x_i} \\pm 1,96se$$  \n",
    "\n",
    "95% выборочных средних включили бы в себя среднее генеральной совокупности при расчете данного интервала"
   ]
  },
  {
   "cell_type": "markdown",
   "metadata": {},
   "source": [
    "Мы можем примерно оценить, в каком интервале относительно среднего выборки лежит среднее генеральной совокупности. Для этого и служат доверительные интервалы.  \n",
    "Зная, что средние значения воборок распределени нормально, согласно ЦПТ,  это позволяет нам оперировать правилами сигм.Расчитав стандартное отклонение для выборочного среднего, согласно ЦПТ, мы можем воспользоваться правилом 2х сигм и утвержать что в этом пределе находится среднее генеральной совокупности с вероятностью 95%."
   ]
  },
  {
   "cell_type": "code",
   "execution_count": 58,
   "metadata": {},
   "outputs": [
    {
     "name": "stdout",
     "output_type": "stream",
     "text": [
      "Правая граница:  21.186675211975345\n",
      "Левая граница:  20.18966887404616\n"
     ]
    }
   ],
   "source": [
    "print(\"Правая граница: \", data[\"Age\"].mean() + 1.96 * data[\"Age\"].sem())\n",
    "print(\"Левая граница: \", data[\"Age\"].mean() - 1.96 * data[\"Age\"].sem())"
   ]
  },
  {
   "cell_type": "code",
   "execution_count": 64,
   "metadata": {},
   "outputs": [
    {
     "data": {
      "text/plain": [
       "(20.18639555314369, 21.189948532877814)"
      ]
     },
     "execution_count": 64,
     "metadata": {},
     "output_type": "execute_result"
    }
   ],
   "source": [
    "st.t.interval(\n",
    "    confidence=0.95,\n",
    "    df=len(data[\"Age\"]) - 1,\n",
    "    loc=data[\"Age\"].mean(),\n",
    "    scale=data[\"Age\"].sem(),\n",
    ")"
   ]
  },
  {
   "cell_type": "markdown",
   "metadata": {},
   "source": [
    "## 1.10 Идея статистического вывода, p-уровень значимости"
   ]
  },
  {
   "cell_type": "markdown",
   "metadata": {},
   "source": [
    "В среднем человек вылечивается за 20 дней. Возьмем группу людей в 60 человек, и оказывается, что в ней вылечиваются за срок в среднем 18.5 дней. Стандартное отклонение = 4."
   ]
  },
  {
   "cell_type": "markdown",
   "metadata": {},
   "source": [
    "Для проверки гипотезы о среднем значении генеральной совокупности (ГС) воспользуемся t-критерием Стьюдента, так как мы имеем дело с выборкой и известна дисперсия выборки.\n",
    "\n",
    "Данные:\n",
    "\n",
    "- Среднее значение выборки $\\overline{x}$ 18.5 дней\n",
    "- Среднее значение генеральной совокупности $\\eta$ = 20 дней\n",
    "- Стандартное отклонение выборки 𝑠d = 4 дня\n",
    "- Объем выборки 𝑛 = 60 человек\n",
    "\n",
    "\n",
    "**Нулевая гипотеза (H0):** $\\eta=20$  \n",
    "**Альтернативная  гипотеза (H1)**: $\\not = 20 $"
   ]
  },
  {
   "cell_type": "markdown",
   "metadata": {},
   "source": [
    "Шаги для проведения t-теста:\n",
    "1. Рассчитываем t-статистику:\n",
    "\n",
    "$$ t = \\frac{\\overline{x} - \\eta }{s / \\sqrt{n}}$$"
   ]
  },
  {
   "cell_type": "code",
   "execution_count": 151,
   "metadata": {},
   "outputs": [
    {
     "data": {
      "text/plain": [
       "-3.0"
      ]
     },
     "execution_count": 151,
     "metadata": {},
     "output_type": "execute_result"
    }
   ],
   "source": [
    "# Данные\n",
    "sample_mean = 18.5  # среднее значение выборки\n",
    "population_mean = 20  # среднее значение генеральной совокупности\n",
    "sample_std = 4  # стандартное отклонение выборки\n",
    "n = 64  # объем выборки\n",
    "\n",
    "# Рассчитываем t-статистику\n",
    "t_statistic = (sample_mean - population_mean) / (sample_std / (n ** (1 / 2)))\n",
    "\n",
    "t_statistic"
   ]
  },
  {
   "cell_type": "markdown",
   "metadata": {},
   "source": [
    "2.1 Найдем критическое значение t для уровня значимости $\\alpha = 0.05$ и n-1 степеней свободы"
   ]
  },
  {
   "cell_type": "code",
   "execution_count": 100,
   "metadata": {},
   "outputs": [
    {
     "data": {
      "text/plain": [
       "1.998340542520741"
      ]
     },
     "execution_count": 100,
     "metadata": {},
     "output_type": "execute_result"
    }
   ],
   "source": [
    "# Уровень значимости\n",
    "alpha = 0.05\n",
    "df = n - 1  # степени свободы\n",
    "\n",
    "# Найдем критическое значение для двухстороннего теста\n",
    "critical_value = st.t.ppf(1 - alpha / 2, df)\n",
    "critical_value"
   ]
  },
  {
   "cell_type": "markdown",
   "metadata": {},
   "source": [
    "Сравнение t-значения с критическим значением\n",
    "\n",
    "Если расчетное t значение выходит за пределы критического значения, отверагем нулевую гипотезу (принимаем альтернативную)\n"
   ]
  },
  {
   "cell_type": "code",
   "execution_count": 154,
   "metadata": {},
   "outputs": [
    {
     "name": "stdout",
     "output_type": "stream",
     "text": [
      "Отвергаем нулевую гипотезу\n"
     ]
    }
   ],
   "source": [
    "if abs(t_statistic) >= critical_value:\n",
    "    print(\"Отвергаем нулевую гипотезу\")\n",
    "else:\n",
    "    print(\"Не можем отвергнуть нулевую гипотезу\")"
   ]
  },
  {
   "cell_type": "markdown",
   "metadata": {},
   "source": [
    "Этот метод прост в интерпретации, но не предоставляет точной информации о вероятности ошибки"
   ]
  },
  {
   "cell_type": "markdown",
   "metadata": {},
   "source": [
    "2.2 Вычисляем p-value\n",
    "\n",
    "Если p-value меньше выбранного уровня значимости (обычно 0.05), мы отвергаем нулевую гипотезу."
   ]
  },
  {
   "cell_type": "markdown",
   "metadata": {},
   "source": [
    "Выбор между функциями зависит от характера данных и требуемой точности. Если у вас есть большая выборка (обычно более 30) и известно стандартное отклонение генеральной совокупности, чаще всего используется **norm.cdf**\n",
    "\n",
    "Если размер выборки небольшой или стандартное отклонение генеральной совокупности неизвестно, то **t.cdf** более подходящий вариант"
   ]
  },
  {
   "cell_type": "code",
   "execution_count": 106,
   "metadata": {},
   "outputs": [
    {
     "data": {
      "text/plain": [
       "0.0026997960632601866"
      ]
     },
     "execution_count": 106,
     "metadata": {},
     "output_type": "execute_result"
    }
   ],
   "source": [
    "p_value = st.norm.cdf(t_statistic) * 2 \n",
    "\n",
    "p_value"
   ]
  },
  {
   "cell_type": "code",
   "execution_count": 152,
   "metadata": {},
   "outputs": [
    {
     "data": {
      "text/plain": [
       "0.003863838476099152"
      ]
     },
     "execution_count": 152,
     "metadata": {},
     "output_type": "execute_result"
    }
   ],
   "source": [
    "p_value = st.t.sf(abs(t_statistic), n - 1) * 2\n",
    "\n",
    "p_value"
   ]
  },
  {
   "cell_type": "code",
   "execution_count": 155,
   "metadata": {},
   "outputs": [
    {
     "name": "stdout",
     "output_type": "stream",
     "text": [
      "Отвергаем нулевую гипотезу\n"
     ]
    }
   ],
   "source": [
    "if p_value < 0.05:\n",
    "    print(\"Отвергаем нулевую гипотезу\")\n",
    "else: \n",
    "    print(\"Не можем отвергнуть нулевую гипотезу\")"
   ]
  },
  {
   "cell_type": "markdown",
   "metadata": {},
   "source": [
    "!!! *Тот или иной полученной уровень значимости означает, что если верна нулевая гипотеза, то вероятность получить такие или еще более выраженные различия равняются этому уровню*"
   ]
  }
 ],
 "metadata": {
  "kernelspec": {
   "display_name": "base",
   "language": "python",
   "name": "python3"
  },
  "language_info": {
   "codemirror_mode": {
    "name": "ipython",
    "version": 3
   },
   "file_extension": ".py",
   "mimetype": "text/x-python",
   "name": "python",
   "nbconvert_exporter": "python",
   "pygments_lexer": "ipython3",
   "version": "3.11.7"
  }
 },
 "nbformat": 4,
 "nbformat_minor": 2
}
